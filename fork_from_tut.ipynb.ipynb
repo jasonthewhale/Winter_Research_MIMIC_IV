{
 "cells": [
  {
   "cell_type": "code",
   "execution_count": 1,
   "metadata": {},
   "outputs": [],
   "source": [
    "import pandas as pd\n",
    "import matplotlib.pyplot as plt\n",
    "\n",
    "def run_query_from_csv(filename, filter_condition=None):\n",
    "    # Load data from CSV file into a pandas DataFrame\n",
    "    data = pd.read_csv(filename)\n",
    "    \n",
    "    # Apply filter if provided\n",
    "    if filter_condition:\n",
    "        data = data.query(filter_condition)\n",
    "    \n",
    "    return data"
   ]
  },
  {
   "cell_type": "code",
   "execution_count": 6,
   "metadata": {},
   "outputs": [
    {
     "data": {
      "text/html": [
       "<div>\n",
       "<style scoped>\n",
       "    .dataframe tbody tr th:only-of-type {\n",
       "        vertical-align: middle;\n",
       "    }\n",
       "\n",
       "    .dataframe tbody tr th {\n",
       "        vertical-align: top;\n",
       "    }\n",
       "\n",
       "    .dataframe thead th {\n",
       "        text-align: right;\n",
       "    }\n",
       "</style>\n",
       "<table border=\"1\" class=\"dataframe\">\n",
       "  <thead>\n",
       "    <tr style=\"text-align: right;\">\n",
       "      <th></th>\n",
       "      <th>subject_id</th>\n",
       "      <th>gender</th>\n",
       "      <th>anchor_age</th>\n",
       "      <th>anchor_year</th>\n",
       "      <th>anchor_year_group</th>\n",
       "      <th>dod</th>\n",
       "    </tr>\n",
       "  </thead>\n",
       "  <tbody>\n",
       "  </tbody>\n",
       "</table>\n",
       "</div>"
      ],
      "text/plain": [
       "Empty DataFrame\n",
       "Columns: [subject_id, gender, anchor_age, anchor_year, anchor_year_group, dod]\n",
       "Index: []"
      ]
     },
     "metadata": {},
     "output_type": "display_data"
    }
   ],
   "source": [
    "# Load patients data\n",
    "subject_id = 16705931\n",
    "patients = run_query_from_csv('./core_samples/patients_sample.csv', f'subject_id == {subject_id}')\n",
    "patients['anchor_year'] = patients['anchor_year']\n",
    "display(patients)"
   ]
  },
  {
   "cell_type": "code",
   "execution_count": 12,
   "metadata": {},
   "outputs": [
    {
     "data": {
      "image/png": "[encoded data removed]",
      "text/plain": [
       "<Figure size 1200x800 with 1 Axes>"
      ]
     },
     "metadata": {},
     "output_type": "display_data"
    }
   ],
   "source": [
    "# Plot anchor_age histogram\n",
    "age = run_query_from_csv('./core_samples/patients_sample.csv')\n",
    "age_grouped = age.groupby('anchor_age').size().reset_index(name='n')\n",
    "plt.figure(figsize=[12, 8])\n",
    "plt.bar(age_grouped['anchor_age'], age_grouped['n'])\n",
    "plt.xticks([x for x in range(0, 90, 10)] + [91])\n",
    "plt.ylabel('Number of patients')\n",
    "plt.xlabel('Age (years)')\n",
    "plt.show()"
   ]
  },
  {
   "cell_type": "code",
   "execution_count": 8,
   "metadata": {},
   "outputs": [
    {
     "data": {
      "text/html": [
       "<div>\n",
       "<style scoped>\n",
       "    .dataframe tbody tr th:only-of-type {\n",
       "        vertical-align: middle;\n",
       "    }\n",
       "\n",
       "    .dataframe tbody tr th {\n",
       "        vertical-align: top;\n",
       "    }\n",
       "\n",
       "    .dataframe thead th {\n",
       "        text-align: right;\n",
       "    }\n",
       "</style>\n",
       "<table border=\"1\" class=\"dataframe\">\n",
       "  <thead>\n",
       "    <tr style=\"text-align: right;\">\n",
       "      <th></th>\n",
       "      <th>subject_id</th>\n",
       "      <th>hadm_id</th>\n",
       "      <th>admittime</th>\n",
       "      <th>dischtime</th>\n",
       "      <th>deathtime</th>\n",
       "      <th>admission_type</th>\n",
       "      <th>admission_location</th>\n",
       "      <th>discharge_location</th>\n",
       "      <th>insurance</th>\n",
       "      <th>language</th>\n",
       "      <th>marital_status</th>\n",
       "      <th>ethnicity</th>\n",
       "      <th>edregtime</th>\n",
       "      <th>edouttime</th>\n",
       "      <th>hospital_expire_flag</th>\n",
       "    </tr>\n",
       "  </thead>\n",
       "  <tbody>\n",
       "    <tr>\n",
       "      <th>6</th>\n",
       "      <td>16705931</td>\n",
       "      <td>20580522</td>\n",
       "      <td>2174-10-24 11:30:00</td>\n",
       "      <td>2174-10-24 18:45:00</td>\n",
       "      <td>NaN</td>\n",
       "      <td>DIRECT OBSERVATION</td>\n",
       "      <td>PHYSICIAN REFERRAL</td>\n",
       "      <td>NaN</td>\n",
       "      <td>Other</td>\n",
       "      <td>ENGLISH</td>\n",
       "      <td>MARRIED</td>\n",
       "      <td>WHITE</td>\n",
       "      <td>NaN</td>\n",
       "      <td>NaN</td>\n",
       "      <td>0</td>\n",
       "    </tr>\n",
       "  </tbody>\n",
       "</table>\n",
       "</div>"
      ],
      "text/plain": [
       "   subject_id   hadm_id            admittime            dischtime deathtime   \n",
       "6    16705931  20580522  2174-10-24 11:30:00  2174-10-24 18:45:00       NaN  \\\n",
       "\n",
       "       admission_type  admission_location discharge_location insurance   \n",
       "6  DIRECT OBSERVATION  PHYSICIAN REFERRAL                NaN     Other  \\\n",
       "\n",
       "  language marital_status ethnicity edregtime edouttime  hospital_expire_flag  \n",
       "6  ENGLISH        MARRIED     WHITE       NaN       NaN                     0  "
      ]
     },
     "metadata": {},
     "output_type": "display_data"
    }
   ],
   "source": [
    "# Load admissions for subject\n",
    "admissions = run_query_from_csv('./core_samples/admissions_sample.csv', f'subject_id == {subject_id}')\n",
    "display(admissions)"
   ]
  },
  {
   "cell_type": "code",
   "execution_count": null,
   "metadata": {},
   "outputs": [],
   "source": [
    "# Plot hospitalizations by admission_location\n",
    "admissions_all = run_query_from_csv('./core_samples/admissions_sample.csv')\n",
    "admission_locations = admissions_all.groupby('admission_location').size().reset_index(name='n')\n",
    "admission_locations['%'] = admission_locations['n'] / admission_locations['n'].sum() * 100.0\n",
    "\n",
    "plt.figure(figsize=[8, 16])\n",
    "plt.barh(admission_locations['admission_location'], admission_locations['n'])\n",
    "plt.xlabel('Number of hospitalizations')\n",
    "plt.xticks(rotation=45)\n",
    "plt.show()"
   ]
  }
 ],
 "metadata": {
  "kernelspec": {
   "display_name": "myvenv",
   "language": "python",
   "name": "python3"
  },
  "language_info": {
   "codemirror_mode": {
    "name": "ipython",
    "version": 3
   },
   "file_extension": ".py",
   "mimetype": "text/x-python",
   "name": "python",
   "nbconvert_exporter": "python",
   "pygments_lexer": "ipython3",
   "version": "3.9.7"
  },
  "orig_nbformat": 4
 },
 "nbformat": 4,
 "nbformat_minor": 2
}
